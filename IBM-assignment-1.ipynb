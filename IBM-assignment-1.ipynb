{
 "cells": [
  {
   "cell_type": "markdown",
   "id": "80eef670",
   "metadata": {},
   "source": [
    "Title : IBM Data Science Fundamentals"
   ]
  },
  {
   "cell_type": "markdown",
   "id": "e4c297ad",
   "metadata": {},
   "source": [
    "Introduction\n",
    "\n",
    "Welcome to this notebook on Data Science fundamentals. In this notebook, we will explore various concepts and tools essential for anyone interested in data science."
   ]
  },
  {
   "cell_type": "markdown",
   "id": "f4a015e3",
   "metadata": {},
   "source": [
    "Data Science Languages\n",
    "\n",
    "1. Python\n",
    "2. R\n",
    "3. SQL"
   ]
  },
  {
   "cell_type": "markdown",
   "id": "57dcae01",
   "metadata": {},
   "source": [
    " Data Science Libraries\n",
    "\n",
    "1. Pandas\n",
    "2. NumPy\n",
    "3. Matplotlib\n",
    "4. Seaborn\n",
    "5. Scikit-learn\n",
    "6. TensorFlow\n",
    "7. PyTorch"
   ]
  },
  {
   "cell_type": "markdown",
   "id": "7e49c894",
   "metadata": {},
   "source": [
    "Data Science Tools\n",
    "\n",
    "| Tool         | Description                                            |\n",
    "|--------------|--------------------------------------------------------|\n",
    "| Jupyter      | Interactive computing environment                      |\n",
    "| Anaconda     | Distribution of Python and R packages for data science |\n",
    "| VS Code      | Integrated development environment                     |\n",
    "| Tableau      | Data visualization tool                                |\n",
    "| Power BI     | Business analytics tool                                |\n",
    "| Spark        | Distributed computing framework                        |"
   ]
  },
  {
   "cell_type": "markdown",
   "id": "a9ec36e7",
   "metadata": {},
   "source": [
    "In this section, we'll cover some basic arithmetic expressions commonly used in data science."
   ]
  },
  {
   "cell_type": "code",
   "execution_count": 1,
   "id": "05e7890e",
   "metadata": {},
   "outputs": [
    {
     "name": "stdout",
     "output_type": "stream",
     "text": [
      "Result: 35\n"
     ]
    }
   ],
   "source": [
    "# Multiply and add numbers\n",
    "result = (5 * 3) + (10 * 2)\n",
    "print(\"Result:\", result)"
   ]
  },
  {
   "cell_type": "code",
   "execution_count": 2,
   "id": "78e31276",
   "metadata": {},
   "outputs": [
    {
     "name": "stdout",
     "output_type": "stream",
     "text": [
      "Hours: 2.5\n"
     ]
    }
   ],
   "source": [
    "# Convert minutes to hours\n",
    "minutes = 150\n",
    "hours = minutes / 60\n",
    "print(\"Hours:\", hours)"
   ]
  },
  {
   "cell_type": "markdown",
   "id": "1b1defa0",
   "metadata": {},
   "source": [
    "Objectives\n",
    "\n",
    "1. Understand fundamental concepts in data science.\n",
    "2. Familiarize with common data science languages and libraries.\n",
    "3. Learn to use basic arithmetic expressions in data science.\n",
    "4. Practice converting units of time.\n",
    "5. Explore a variety of data science tools and their applications."
   ]
  },
  {
   "cell_type": "markdown",
   "id": "606d5fd7",
   "metadata": {},
   "source": [
    "This notebook was created by Nikhil."
   ]
  }
 ],
 "metadata": {
  "kernelspec": {
   "display_name": "Python 3 (ipykernel)",
   "language": "python",
   "name": "python3"
  },
  "language_info": {
   "codemirror_mode": {
    "name": "ipython",
    "version": 3
   },
   "file_extension": ".py",
   "mimetype": "text/x-python",
   "name": "python",
   "nbconvert_exporter": "python",
   "pygments_lexer": "ipython3",
   "version": "3.9.13"
  }
 },
 "nbformat": 4,
 "nbformat_minor": 5
}
